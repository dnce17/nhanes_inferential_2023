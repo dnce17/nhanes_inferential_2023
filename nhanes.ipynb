{
 "cells": [
  {
   "cell_type": "markdown",
   "metadata": {},
   "source": [
    "### NHANES Data\n",
    "* [NHANES 2021-2023](https://wwwn.cdc.gov/nchs/nhanes/continuousnhanes/default.aspx?Cycle=2021-2023)"
   ]
  },
  {
   "cell_type": "markdown",
   "metadata": {},
   "source": [
    "### Data Used + Links\n",
    "* [Demographics](https://wwwn.cdc.gov/Nchs/Nhanes/2021-2022/DEMO_L.htm)\n",
    "* [Physical Activity](https://wwwn.cdc.gov/Nchs/Nhanes/2021-2022/PAQ_L.htm)\n",
    "* [Blood Pressure](https://wwwn.cdc.gov/Nchs/Nhanes/2021-2022/BPXO_L.htm)\n",
    "* [Weight](https://wwwn.cdc.gov/Nchs/Nhanes/2021-2022/WHQ_L.htm)\n",
    "* [Vitamin D](https://wwwn.cdc.gov/Nchs/Nhanes/2021-2022/VID_L.htm)"
   ]
  },
  {
   "cell_type": "code",
   "execution_count": 1,
   "metadata": {},
   "outputs": [],
   "source": [
    "import pandas as pd\n",
    "from scipy import stats\n",
    "import matplotlib.pyplot as plt \n",
    "import seaborn as sns "
   ]
  },
  {
   "cell_type": "code",
   "execution_count": 2,
   "metadata": {},
   "outputs": [],
   "source": [
    "# Avoid displaying scientific or exponential notations\n",
    "pd.options.display.float_format = '{:.2f}'.format"
   ]
  },
  {
   "cell_type": "code",
   "execution_count": 3,
   "metadata": {},
   "outputs": [],
   "source": [
    "# Load data\n",
    "demographics_df = pd.read_sas('https://wwwn.cdc.gov/Nchs/Nhanes/2021-2022/DEMO_L.XPT')"
   ]
  },
  {
   "cell_type": "markdown",
   "metadata": {},
   "source": [
    "### Question 1: \"Is there an association between marital status (married or not married) and education level (bachelor’s degree or higher vs. less than a bachelor’s degree)?\"\n",
    "* Variables: DMDMARTZ (marital status) and DMDEDUC2 (education level). Recode as specified."
   ]
  },
  {
   "cell_type": "code",
   "execution_count": 4,
   "metadata": {},
   "outputs": [],
   "source": [
    "# Marital Status - Filter out 77, 99, and NaN\n",
    "demographics_df = demographics_df[~demographics_df['DMDMARTZ'].isin([77, 99])].dropna(subset=['DMDMARTZ'])\n",
    "\n",
    "# Education level - Filter out 7, 9, and NaN\n",
    "demographics_df = demographics_df[~demographics_df['DMDEDUC2'].isin([7, 9])].dropna(subset=['DMDEDUC2'])"
   ]
  },
  {
   "cell_type": "code",
   "execution_count": 5,
   "metadata": {},
   "outputs": [],
   "source": [
    "# Group certain keys together into one category\n",
    "marital_category_map = {\n",
    "    1.0: 'Married',\n",
    "    2.0: 'Not Married',\n",
    "    3.0: 'Not Married'\n",
    "}\n",
    "\n",
    "edu_lv_category_map = {\n",
    "    1.0: 'Less than bachelor',\n",
    "    2.0: 'Less than bachelor',\n",
    "    3.0: 'Less than bachelor',\n",
    "    4.0: 'Less than bachelor',\n",
    "    5.0: 'Bachelor or higher'\n",
    "}\n",
    "\n",
    "# Apply mapping\n",
    "marital = demographics_df['DMDMARTZ'].map(marital_category_map)\n",
    "edu_lv = demographics_df['DMDEDUC2'].map(edu_lv_category_map)"
   ]
  },
  {
   "cell_type": "code",
   "execution_count": 6,
   "metadata": {},
   "outputs": [
    {
     "name": "stdout",
     "output_type": "stream",
     "text": [
      "<class 'pandas.core.series.Series'>\n",
      "Index: 7772 entries, 0 to 11932\n",
      "Series name: DMDMARTZ\n",
      "Non-Null Count  Dtype \n",
      "--------------  ----- \n",
      "7772 non-null   object\n",
      "dtypes: object(1)\n",
      "memory usage: 121.4+ KB\n"
     ]
    }
   ],
   "source": [
    "# Check info, including if any missing values(NaN) left\n",
    "marital.info()"
   ]
  },
  {
   "cell_type": "code",
   "execution_count": 7,
   "metadata": {},
   "outputs": [
    {
     "name": "stdout",
     "output_type": "stream",
     "text": [
      "<class 'pandas.core.series.Series'>\n",
      "Index: 7772 entries, 0 to 11932\n",
      "Series name: DMDEDUC2\n",
      "Non-Null Count  Dtype \n",
      "--------------  ----- \n",
      "7772 non-null   object\n",
      "dtypes: object(1)\n",
      "memory usage: 121.4+ KB\n"
     ]
    }
   ],
   "source": [
    "edu_lv.info()"
   ]
  },
  {
   "cell_type": "code",
   "execution_count": 8,
   "metadata": {},
   "outputs": [
    {
     "data": {
      "text/plain": [
       "array(['Married', 'Not Married'], dtype=object)"
      ]
     },
     "execution_count": 8,
     "metadata": {},
     "output_type": "execute_result"
    }
   ],
   "source": [
    "# Values are only married and non-married now\n",
    "marital.unique()"
   ]
  },
  {
   "cell_type": "code",
   "execution_count": 9,
   "metadata": {},
   "outputs": [
    {
     "data": {
      "text/plain": [
       "array(['Bachelor or higher', 'Less than bachelor'], dtype=object)"
      ]
     },
     "execution_count": 9,
     "metadata": {},
     "output_type": "execute_result"
    }
   ],
   "source": [
    "# Values only include edu level (e.g. 7 = \"refused\", but 7 was filtered out) \n",
    "edu_lv.unique()"
   ]
  },
  {
   "cell_type": "code",
   "execution_count": 10,
   "metadata": {},
   "outputs": [
    {
     "data": {
      "text/html": [
       "<div>\n",
       "<style scoped>\n",
       "    .dataframe tbody tr th:only-of-type {\n",
       "        vertical-align: middle;\n",
       "    }\n",
       "\n",
       "    .dataframe tbody tr th {\n",
       "        vertical-align: top;\n",
       "    }\n",
       "\n",
       "    .dataframe thead th {\n",
       "        text-align: right;\n",
       "    }\n",
       "</style>\n",
       "<table border=\"1\" class=\"dataframe\">\n",
       "  <thead>\n",
       "    <tr style=\"text-align: right;\">\n",
       "      <th>DMDMARTZ</th>\n",
       "      <th>Married</th>\n",
       "      <th>Not Married</th>\n",
       "    </tr>\n",
       "    <tr>\n",
       "      <th>DMDEDUC2</th>\n",
       "      <th></th>\n",
       "      <th></th>\n",
       "    </tr>\n",
       "  </thead>\n",
       "  <tbody>\n",
       "    <tr>\n",
       "      <th>Bachelor or higher</th>\n",
       "      <td>1631</td>\n",
       "      <td>990</td>\n",
       "    </tr>\n",
       "    <tr>\n",
       "      <th>Less than bachelor</th>\n",
       "      <td>2503</td>\n",
       "      <td>2648</td>\n",
       "    </tr>\n",
       "  </tbody>\n",
       "</table>\n",
       "</div>"
      ],
      "text/plain": [
       "DMDMARTZ            Married  Not Married\n",
       "DMDEDUC2                                \n",
       "Bachelor or higher     1631          990\n",
       "Less than bachelor     2503         2648"
      ]
     },
     "execution_count": 10,
     "metadata": {},
     "output_type": "execute_result"
    }
   ],
   "source": [
    "# Raw count of each marital status and edu level combination\n",
    "table = pd.crosstab(edu_lv, marital)\n",
    "table"
   ]
  },
  {
   "cell_type": "code",
   "execution_count": 11,
   "metadata": {},
   "outputs": [
    {
     "data": {
      "text/html": [
       "<div>\n",
       "<style scoped>\n",
       "    .dataframe tbody tr th:only-of-type {\n",
       "        vertical-align: middle;\n",
       "    }\n",
       "\n",
       "    .dataframe tbody tr th {\n",
       "        vertical-align: top;\n",
       "    }\n",
       "\n",
       "    .dataframe thead th {\n",
       "        text-align: right;\n",
       "    }\n",
       "</style>\n",
       "<table border=\"1\" class=\"dataframe\">\n",
       "  <thead>\n",
       "    <tr style=\"text-align: right;\">\n",
       "      <th>DMDMARTZ</th>\n",
       "      <th>Married</th>\n",
       "      <th>Not Married</th>\n",
       "    </tr>\n",
       "    <tr>\n",
       "      <th>DMDEDUC2</th>\n",
       "      <th></th>\n",
       "      <th></th>\n",
       "    </tr>\n",
       "  </thead>\n",
       "  <tbody>\n",
       "    <tr>\n",
       "      <th>Bachelor or higher</th>\n",
       "      <td>21.00</td>\n",
       "      <td>12.70</td>\n",
       "    </tr>\n",
       "    <tr>\n",
       "      <th>Less than bachelor</th>\n",
       "      <td>32.20</td>\n",
       "      <td>34.10</td>\n",
       "    </tr>\n",
       "  </tbody>\n",
       "</table>\n",
       "</div>"
      ],
      "text/plain": [
       "DMDMARTZ            Married  Not Married\n",
       "DMDEDUC2                                \n",
       "Bachelor or higher    21.00        12.70\n",
       "Less than bachelor    32.20        34.10"
      ]
     },
     "execution_count": 11,
     "metadata": {},
     "output_type": "execute_result"
    }
   ],
   "source": [
    "# Shows percentage where sum of ALL cells equals 100%\n",
    "round(pd.crosstab(edu_lv, marital, normalize=True) * 100, 1)"
   ]
  },
  {
   "cell_type": "code",
   "execution_count": 12,
   "metadata": {},
   "outputs": [
    {
     "data": {
      "image/png": "[encoded data removed]",
      "text/plain": [
       "<Figure size 1000x800 with 1 Axes>"
      ]
     },
     "metadata": {},
     "output_type": "display_data"
    }
   ],
   "source": [
    "# Show chart of edu_lv vs marital status\n",
    "plt.figure(figsize=(10,8))\n",
    "sns.countplot(data=demographics_df, x=edu_lv, hue=marital)\n",
    "plt.show()"
   ]
  },
  {
   "cell_type": "code",
   "execution_count": 13,
   "metadata": {},
   "outputs": [
    {
     "data": {
      "text/plain": [
       "Chi2ContingencyResult(statistic=129.17381826322236, pvalue=6.213197986632679e-30, dof=1, expected_freq=array([[1394.13458569, 1226.86541431],\n",
       "       [2739.86541431, 2411.13458569]]))"
      ]
     },
     "execution_count": 13,
     "metadata": {},
     "output_type": "execute_result"
    }
   ],
   "source": [
    "# Prep for chi-square test\n",
    "stats.chi2_contingency(table)"
   ]
  },
  {
   "cell_type": "markdown",
   "metadata": {},
   "source": [
    "#### ANSWER:"
   ]
  },
  {
   "cell_type": "code",
   "execution_count": 14,
   "metadata": {},
   "outputs": [
    {
     "name": "stdout",
     "output_type": "stream",
     "text": [
      "stat=129.17381826322236, p-value=6.213197986632679e-30\n",
      "Statistically significant --> There is an association b/w marital status and education level since p is less than alpha of 0.05\n"
     ]
    }
   ],
   "source": [
    "stat, p, dof, expected = stats.chi2_contingency(table)\n",
    "print(f'stat={stat}, p-value={p}') \n",
    "alpha = 0.05 \n",
    "if p > alpha:\n",
    "    print('Not statistically significant --> No to little association b/w marital status and education level since p is more than alpha of 0.05')\n",
    "else:\n",
    "    print('Statistically significant --> There is an association b/w marital status and education level since p is less than alpha of 0.05')"
   ]
  },
  {
   "cell_type": "markdown",
   "metadata": {},
   "source": [
    "### Question 2: \"Is there a difference in the mean sedentary behavior time between those who are married and those who are not married?\"\n",
    "* Variables: DMDMARTZ (marital status, recoded) and PAD680 (sedentary behavior time, cleaned)."
   ]
  },
  {
   "cell_type": "code",
   "execution_count": 15,
   "metadata": {},
   "outputs": [],
   "source": [
    "# Load physical activity data file\n",
    "phys_activty_df = pd.read_sas('https://wwwn.cdc.gov/Nchs/Nhanes/2021-2022/PAQ_L.XPT')"
   ]
  },
  {
   "cell_type": "code",
   "execution_count": 16,
   "metadata": {},
   "outputs": [],
   "source": [
    "# Sedentary behavior time - Filter out 7777, 9999, and NaN\n",
    "# NOTE: ~ is a NOT IN operator for pandas\n",
    "phys_activty_df = phys_activty_df[~phys_activty_df['PAD680'].isin([7777, 9999])].dropna(subset=['PAD680'])"
   ]
  },
  {
   "cell_type": "code",
   "execution_count": 17,
   "metadata": {},
   "outputs": [
    {
     "name": "stderr",
     "output_type": "stream",
     "text": [
      "/var/folders/ph/yfz6c6l55h3blch0js9k9b440000gn/T/ipykernel_6790/3594872074.py:5: SettingWithCopyWarning: \n",
      "A value is trying to be set on a copy of a slice from a DataFrame.\n",
      "Try using .loc[row_indexer,col_indexer] = value instead\n",
      "\n",
      "See the caveats in the documentation: https://pandas.pydata.org/pandas-docs/stable/user_guide/indexing.html#returning-a-view-versus-a-copy\n",
      "  sedentary_time['SEQN'] = sedentary_time['SEQN'].astype(str)\n"
     ]
    },
    {
     "data": {
      "text/plain": [
       "SEQN       object\n",
       "PAD680    float64\n",
       "dtype: object"
      ]
     },
     "execution_count": 17,
     "metadata": {},
     "output_type": "execute_result"
    }
   ],
   "source": [
    "# Get particpant unique identifer (SEQN) and sedentary time\n",
    "sedentary_time = phys_activty_df[['SEQN', 'PAD680']]\n",
    "\n",
    "# Convert the SEQN to str (aka object) (this is to prep it for data merging)\n",
    "sedentary_time['SEQN'] = sedentary_time['SEQN'].astype(str)\n",
    "sedentary_time.dtypes"
   ]
  },
  {
   "cell_type": "code",
   "execution_count": 18,
   "metadata": {},
   "outputs": [
    {
     "data": {
      "text/html": [
       "<div>\n",
       "<style scoped>\n",
       "    .dataframe tbody tr th:only-of-type {\n",
       "        vertical-align: middle;\n",
       "    }\n",
       "\n",
       "    .dataframe tbody tr th {\n",
       "        vertical-align: top;\n",
       "    }\n",
       "\n",
       "    .dataframe thead th {\n",
       "        text-align: right;\n",
       "    }\n",
       "</style>\n",
       "<table border=\"1\" class=\"dataframe\">\n",
       "  <thead>\n",
       "    <tr style=\"text-align: right;\">\n",
       "      <th></th>\n",
       "      <th>SEQN</th>\n",
       "      <th>DMDMARTZ</th>\n",
       "    </tr>\n",
       "  </thead>\n",
       "  <tbody>\n",
       "    <tr>\n",
       "      <th>0</th>\n",
       "      <td>130378.00</td>\n",
       "      <td>1.00</td>\n",
       "    </tr>\n",
       "    <tr>\n",
       "      <th>1</th>\n",
       "      <td>130379.00</td>\n",
       "      <td>1.00</td>\n",
       "    </tr>\n",
       "    <tr>\n",
       "      <th>2</th>\n",
       "      <td>130380.00</td>\n",
       "      <td>1.00</td>\n",
       "    </tr>\n",
       "    <tr>\n",
       "      <th>6</th>\n",
       "      <td>130384.00</td>\n",
       "      <td>3.00</td>\n",
       "    </tr>\n",
       "    <tr>\n",
       "      <th>7</th>\n",
       "      <td>130385.00</td>\n",
       "      <td>1.00</td>\n",
       "    </tr>\n",
       "    <tr>\n",
       "      <th>...</th>\n",
       "      <td>...</td>\n",
       "      <td>...</td>\n",
       "    </tr>\n",
       "    <tr>\n",
       "      <th>11927</th>\n",
       "      <td>142305.00</td>\n",
       "      <td>2.00</td>\n",
       "    </tr>\n",
       "    <tr>\n",
       "      <th>11929</th>\n",
       "      <td>142307.00</td>\n",
       "      <td>3.00</td>\n",
       "    </tr>\n",
       "    <tr>\n",
       "      <th>11930</th>\n",
       "      <td>142308.00</td>\n",
       "      <td>1.00</td>\n",
       "    </tr>\n",
       "    <tr>\n",
       "      <th>11931</th>\n",
       "      <td>142309.00</td>\n",
       "      <td>2.00</td>\n",
       "    </tr>\n",
       "    <tr>\n",
       "      <th>11932</th>\n",
       "      <td>142310.00</td>\n",
       "      <td>1.00</td>\n",
       "    </tr>\n",
       "  </tbody>\n",
       "</table>\n",
       "<p>7772 rows × 2 columns</p>\n",
       "</div>"
      ],
      "text/plain": [
       "           SEQN  DMDMARTZ\n",
       "0     130378.00      1.00\n",
       "1     130379.00      1.00\n",
       "2     130380.00      1.00\n",
       "6     130384.00      3.00\n",
       "7     130385.00      1.00\n",
       "...         ...       ...\n",
       "11927 142305.00      2.00\n",
       "11929 142307.00      3.00\n",
       "11930 142308.00      1.00\n",
       "11931 142309.00      2.00\n",
       "11932 142310.00      1.00\n",
       "\n",
       "[7772 rows x 2 columns]"
      ]
     },
     "execution_count": 18,
     "metadata": {},
     "output_type": "execute_result"
    }
   ],
   "source": [
    "# Get particpant unique identifer and marital status\n",
    "marital = demographics_df[['SEQN', 'DMDMARTZ']]\n",
    "marital"
   ]
  },
  {
   "cell_type": "code",
   "execution_count": 19,
   "metadata": {},
   "outputs": [
    {
     "name": "stderr",
     "output_type": "stream",
     "text": [
      "/var/folders/ph/yfz6c6l55h3blch0js9k9b440000gn/T/ipykernel_6790/3905854148.py:2: SettingWithCopyWarning: \n",
      "A value is trying to be set on a copy of a slice from a DataFrame.\n",
      "Try using .loc[row_indexer,col_indexer] = value instead\n",
      "\n",
      "See the caveats in the documentation: https://pandas.pydata.org/pandas-docs/stable/user_guide/indexing.html#returning-a-view-versus-a-copy\n",
      "  marital['DMDMARTZ'] = demographics_df['DMDMARTZ'].map(marital_category_map)\n"
     ]
    }
   ],
   "source": [
    "# Combine values 2 and 3 to treat them both as \"Not Married\"\n",
    "marital['DMDMARTZ'] = demographics_df['DMDMARTZ'].map(marital_category_map)"
   ]
  },
  {
   "cell_type": "code",
   "execution_count": 20,
   "metadata": {},
   "outputs": [
    {
     "name": "stderr",
     "output_type": "stream",
     "text": [
      "/var/folders/ph/yfz6c6l55h3blch0js9k9b440000gn/T/ipykernel_6790/2471246915.py:1: SettingWithCopyWarning: \n",
      "A value is trying to be set on a copy of a slice from a DataFrame.\n",
      "Try using .loc[row_indexer,col_indexer] = value instead\n",
      "\n",
      "See the caveats in the documentation: https://pandas.pydata.org/pandas-docs/stable/user_guide/indexing.html#returning-a-view-versus-a-copy\n",
      "  marital['SEQN'] = marital['SEQN'].astype(str)\n",
      "/var/folders/ph/yfz6c6l55h3blch0js9k9b440000gn/T/ipykernel_6790/2471246915.py:2: SettingWithCopyWarning: \n",
      "A value is trying to be set on a copy of a slice from a DataFrame.\n",
      "Try using .loc[row_indexer,col_indexer] = value instead\n",
      "\n",
      "See the caveats in the documentation: https://pandas.pydata.org/pandas-docs/stable/user_guide/indexing.html#returning-a-view-versus-a-copy\n",
      "  marital['DMDMARTZ'] = marital['DMDMARTZ'].astype(str)\n"
     ]
    },
    {
     "data": {
      "text/plain": [
       "SEQN        object\n",
       "DMDMARTZ    object\n",
       "dtype: object"
      ]
     },
     "execution_count": 20,
     "metadata": {},
     "output_type": "execute_result"
    }
   ],
   "source": [
    "marital['SEQN'] = marital['SEQN'].astype(str)\n",
    "marital['DMDMARTZ'] = marital['DMDMARTZ'].astype(str)\n",
    "marital.dtypes"
   ]
  },
  {
   "cell_type": "code",
   "execution_count": 21,
   "metadata": {},
   "outputs": [
    {
     "data": {
      "text/html": [
       "<div>\n",
       "<style scoped>\n",
       "    .dataframe tbody tr th:only-of-type {\n",
       "        vertical-align: middle;\n",
       "    }\n",
       "\n",
       "    .dataframe tbody tr th {\n",
       "        vertical-align: top;\n",
       "    }\n",
       "\n",
       "    .dataframe thead th {\n",
       "        text-align: right;\n",
       "    }\n",
       "</style>\n",
       "<table border=\"1\" class=\"dataframe\">\n",
       "  <thead>\n",
       "    <tr style=\"text-align: right;\">\n",
       "      <th></th>\n",
       "      <th>SEQN</th>\n",
       "      <th>DMDMARTZ</th>\n",
       "      <th>PAD680</th>\n",
       "    </tr>\n",
       "  </thead>\n",
       "  <tbody>\n",
       "    <tr>\n",
       "      <th>0</th>\n",
       "      <td>130378.0</td>\n",
       "      <td>Married</td>\n",
       "      <td>360.00</td>\n",
       "    </tr>\n",
       "    <tr>\n",
       "      <th>1</th>\n",
       "      <td>130379.0</td>\n",
       "      <td>Married</td>\n",
       "      <td>480.00</td>\n",
       "    </tr>\n",
       "    <tr>\n",
       "      <th>2</th>\n",
       "      <td>130380.0</td>\n",
       "      <td>Married</td>\n",
       "      <td>240.00</td>\n",
       "    </tr>\n",
       "    <tr>\n",
       "      <th>3</th>\n",
       "      <td>130384.0</td>\n",
       "      <td>Not Married</td>\n",
       "      <td>60.00</td>\n",
       "    </tr>\n",
       "    <tr>\n",
       "      <th>4</th>\n",
       "      <td>130385.0</td>\n",
       "      <td>Married</td>\n",
       "      <td>180.00</td>\n",
       "    </tr>\n",
       "    <tr>\n",
       "      <th>...</th>\n",
       "      <td>...</td>\n",
       "      <td>...</td>\n",
       "      <td>...</td>\n",
       "    </tr>\n",
       "    <tr>\n",
       "      <th>7767</th>\n",
       "      <td>142305.0</td>\n",
       "      <td>Not Married</td>\n",
       "      <td>480.00</td>\n",
       "    </tr>\n",
       "    <tr>\n",
       "      <th>7768</th>\n",
       "      <td>142307.0</td>\n",
       "      <td>Not Married</td>\n",
       "      <td>480.00</td>\n",
       "    </tr>\n",
       "    <tr>\n",
       "      <th>7769</th>\n",
       "      <td>142308.0</td>\n",
       "      <td>Married</td>\n",
       "      <td>600.00</td>\n",
       "    </tr>\n",
       "    <tr>\n",
       "      <th>7770</th>\n",
       "      <td>142309.0</td>\n",
       "      <td>Not Married</td>\n",
       "      <td>240.00</td>\n",
       "    </tr>\n",
       "    <tr>\n",
       "      <th>7771</th>\n",
       "      <td>142310.0</td>\n",
       "      <td>Married</td>\n",
       "      <td>360.00</td>\n",
       "    </tr>\n",
       "  </tbody>\n",
       "</table>\n",
       "<p>7772 rows × 3 columns</p>\n",
       "</div>"
      ],
      "text/plain": [
       "          SEQN     DMDMARTZ  PAD680\n",
       "0     130378.0      Married  360.00\n",
       "1     130379.0      Married  480.00\n",
       "2     130380.0      Married  240.00\n",
       "3     130384.0  Not Married   60.00\n",
       "4     130385.0      Married  180.00\n",
       "...        ...          ...     ...\n",
       "7767  142305.0  Not Married  480.00\n",
       "7768  142307.0  Not Married  480.00\n",
       "7769  142308.0      Married  600.00\n",
       "7770  142309.0  Not Married  240.00\n",
       "7771  142310.0      Married  360.00\n",
       "\n",
       "[7772 rows x 3 columns]"
      ]
     },
     "execution_count": 21,
     "metadata": {},
     "output_type": "execute_result"
    }
   ],
   "source": [
    "# Match the unique identifers and merge the marital status and sedentary time data\n",
    "q2_merge = pd.merge(marital, sedentary_time, how='left', on=['SEQN'])\n",
    "q2_merge"
   ]
  },
  {
   "cell_type": "code",
   "execution_count": 22,
   "metadata": {},
   "outputs": [
    {
     "data": {
      "text/plain": [
       "SEQN        0\n",
       "DMDMARTZ    0\n",
       "PAD680      0\n",
       "dtype: int64"
      ]
     },
     "execution_count": 22,
     "metadata": {},
     "output_type": "execute_result"
    }
   ],
   "source": [
    "# Removing NaN and verify that no NaN exist after\n",
    "q2_merge = q2_merge.dropna()\n",
    "q2_merge.isna().sum()"
   ]
  },
  {
   "cell_type": "code",
   "execution_count": 23,
   "metadata": {},
   "outputs": [
    {
     "data": {
      "text/plain": [
       "array(['Married', 'Not Married'], dtype=object)"
      ]
     },
     "execution_count": 23,
     "metadata": {},
     "output_type": "execute_result"
    }
   ],
   "source": [
    "# Verify that only desired values remain\n",
    "q2_merge['DMDMARTZ'].unique()"
   ]
  },
  {
   "cell_type": "code",
   "execution_count": 24,
   "metadata": {},
   "outputs": [],
   "source": [
    "# Reusuable function to check if desired or undesired values still exist\n",
    "def check_exist(df, name, valArr):\n",
    "    remaining_values = df[name].isin(valArr).any()\n",
    "\n",
    "    if remaining_values:\n",
    "        return f'There are still rows with the array values in the {name} column.'\n",
    "    else:\n",
    "        return f'There are NO rows with the array values in the {name} column.'"
   ]
  },
  {
   "cell_type": "code",
   "execution_count": 25,
   "metadata": {},
   "outputs": [
    {
     "data": {
      "text/plain": [
       "'There are NO rows with the array values in the PAD680 column.'"
      ]
     },
     "execution_count": 25,
     "metadata": {},
     "output_type": "execute_result"
    }
   ],
   "source": [
    "check_exist(q2_merge, 'PAD680', [7777, 7777])"
   ]
  },
  {
   "cell_type": "code",
   "execution_count": 26,
   "metadata": {},
   "outputs": [
    {
     "name": "stdout",
     "output_type": "stream",
     "text": [
      "7699\n",
      "7699\n"
     ]
    }
   ],
   "source": [
    "# Verify that both have same amt of data before t-test\n",
    "print(len(q2_merge['DMDMARTZ']))\n",
    "print(len(q2_merge['PAD680']))"
   ]
  },
  {
   "cell_type": "code",
   "execution_count": 27,
   "metadata": {},
   "outputs": [
    {
     "data": {
      "text/plain": [
       "DMDMARTZ\n",
       "Married       353.21\n",
       "Not Married   371.93\n",
       "Name: PAD680, dtype: float64"
      ]
     },
     "execution_count": 27,
     "metadata": {},
     "output_type": "execute_result"
    }
   ],
   "source": [
    "q2_merge.groupby('DMDMARTZ')['PAD680'].mean() "
   ]
  },
  {
   "cell_type": "code",
   "execution_count": 28,
   "metadata": {},
   "outputs": [
    {
     "data": {
      "image/png": "[encoded data removed]",
      "text/plain": [
       "<Figure size 1000x800 with 1 Axes>"
      ]
     },
     "metadata": {},
     "output_type": "display_data"
    }
   ],
   "source": [
    "# Create boxplot for variables\n",
    "plt.figure(figsize=(10,8))\n",
    "sns.boxplot(data=q2_merge, x='PAD680', y=\"DMDMARTZ\")\n",
    "plt.show()"
   ]
  },
  {
   "cell_type": "code",
   "execution_count": 29,
   "metadata": {},
   "outputs": [
    {
     "data": {
      "text/plain": [
       "0      360.00\n",
       "1      480.00\n",
       "2      240.00\n",
       "4      180.00\n",
       "5      180.00\n",
       "        ...  \n",
       "7761   480.00\n",
       "7762   120.00\n",
       "7763    90.00\n",
       "7769   600.00\n",
       "7771   360.00\n",
       "Name: PAD680, Length: 4104, dtype: float64"
      ]
     },
     "execution_count": 29,
     "metadata": {},
     "output_type": "execute_result"
    }
   ],
   "source": [
    "# Get sedendary time of married people\n",
    "married = q2_merge[q2_merge['DMDMARTZ'] == 'Married']['PAD680']\n",
    "married"
   ]
  },
  {
   "cell_type": "code",
   "execution_count": 30,
   "metadata": {},
   "outputs": [
    {
     "data": {
      "text/plain": [
       "3        60.00\n",
       "6      1200.00\n",
       "10      240.00\n",
       "14      360.00\n",
       "19      960.00\n",
       "         ...  \n",
       "7765    120.00\n",
       "7766    360.00\n",
       "7767    480.00\n",
       "7768    480.00\n",
       "7770    240.00\n",
       "Name: PAD680, Length: 3595, dtype: float64"
      ]
     },
     "execution_count": 30,
     "metadata": {},
     "output_type": "execute_result"
    }
   ],
   "source": [
    "# Get sedendary time of not married people\n",
    "not_married = q2_merge[q2_merge['DMDMARTZ'] == 'Not Married']['PAD680']\n",
    "not_married"
   ]
  },
  {
   "cell_type": "markdown",
   "metadata": {},
   "source": [
    "#### ANSWER:"
   ]
  },
  {
   "cell_type": "code",
   "execution_count": 31,
   "metadata": {},
   "outputs": [
    {
     "name": "stdout",
     "output_type": "stream",
     "text": [
      "Independent t-Test Statistic: -3.879684833002586, p-value: 0.00010546415929820784\n",
      "Significant difference between the groups since p is less than 0.05\n"
     ]
    }
   ],
   "source": [
    "# Perform independent/two-sample t-test\n",
    "from scipy.stats import ttest_ind\n",
    "\n",
    "stat, p_value = ttest_ind(married, not_married, equal_var=True)\n",
    "print(f\"Independent t-Test Statistic: {stat}, p-value: {p_value}\")\n",
    "\n",
    "# Interpretation\n",
    "if p_value > 0.05:\n",
    "    print(\"No significant difference between the groups since p is more than 0.05\")\n",
    "else:\n",
    "    print(\"Significant difference between the groups since p is less than 0.05\")"
   ]
  },
  {
   "cell_type": "markdown",
   "metadata": {},
   "source": [
    "### Question 3: \"How do age and marital status affect systolic blood pressure?\"\n",
    "* Variables: RIDAGEYR (age), DMDMARTZ (marital status, recoded), and BPXOSY3 (systolic blood pressure)."
   ]
  },
  {
   "cell_type": "code",
   "execution_count": 32,
   "metadata": {},
   "outputs": [],
   "source": [
    "import statsmodels.api as sm\n",
    "from statsmodels.formula.api import ols"
   ]
  },
  {
   "cell_type": "code",
   "execution_count": 33,
   "metadata": {},
   "outputs": [],
   "source": [
    "bp_df = pd.read_sas('https://wwwn.cdc.gov/Nchs/Nhanes/2021-2022/BPXO_L.XPT')"
   ]
  },
  {
   "cell_type": "code",
   "execution_count": 34,
   "metadata": {},
   "outputs": [
    {
     "name": "stderr",
     "output_type": "stream",
     "text": [
      "/var/folders/ph/yfz6c6l55h3blch0js9k9b440000gn/T/ipykernel_6790/2918402994.py:2: SettingWithCopyWarning: \n",
      "A value is trying to be set on a copy of a slice from a DataFrame.\n",
      "Try using .loc[row_indexer,col_indexer] = value instead\n",
      "\n",
      "See the caveats in the documentation: https://pandas.pydata.org/pandas-docs/stable/user_guide/indexing.html#returning-a-view-versus-a-copy\n",
      "  bp['SEQN'] = bp['SEQN'].astype(str)\n"
     ]
    },
    {
     "data": {
      "text/plain": [
       "SEQN        object\n",
       "BPXOSY3    float64\n",
       "dtype: object"
      ]
     },
     "execution_count": 34,
     "metadata": {},
     "output_type": "execute_result"
    }
   ],
   "source": [
    "bp = bp_df[['SEQN', 'BPXOSY3']]\n",
    "bp['SEQN'] = bp['SEQN'].astype(str)\n",
    "bp.dtypes"
   ]
  },
  {
   "cell_type": "code",
   "execution_count": 35,
   "metadata": {},
   "outputs": [
    {
     "name": "stderr",
     "output_type": "stream",
     "text": [
      "/var/folders/ph/yfz6c6l55h3blch0js9k9b440000gn/T/ipykernel_6790/4012603402.py:2: SettingWithCopyWarning: \n",
      "A value is trying to be set on a copy of a slice from a DataFrame.\n",
      "Try using .loc[row_indexer,col_indexer] = value instead\n",
      "\n",
      "See the caveats in the documentation: https://pandas.pydata.org/pandas-docs/stable/user_guide/indexing.html#returning-a-view-versus-a-copy\n",
      "  age['SEQN'] = age['SEQN'].astype(str)\n"
     ]
    },
    {
     "data": {
      "text/plain": [
       "SEQN         object\n",
       "RIDAGEYR    float64\n",
       "dtype: object"
      ]
     },
     "execution_count": 35,
     "metadata": {},
     "output_type": "execute_result"
    }
   ],
   "source": [
    "age = demographics_df[['SEQN', 'RIDAGEYR']]\n",
    "age['SEQN'] = age['SEQN'].astype(str)\n",
    "age.dtypes"
   ]
  },
  {
   "cell_type": "code",
   "execution_count": 36,
   "metadata": {},
   "outputs": [
    {
     "name": "stderr",
     "output_type": "stream",
     "text": [
      "/var/folders/ph/yfz6c6l55h3blch0js9k9b440000gn/T/ipykernel_6790/3067145717.py:4: SettingWithCopyWarning: \n",
      "A value is trying to be set on a copy of a slice from a DataFrame.\n",
      "Try using .loc[row_indexer,col_indexer] = value instead\n",
      "\n",
      "See the caveats in the documentation: https://pandas.pydata.org/pandas-docs/stable/user_guide/indexing.html#returning-a-view-versus-a-copy\n",
      "  marital['DMDMARTZ'] = marital['DMDMARTZ'].replace({2.00: 2, 3.00: 2})\n"
     ]
    },
    {
     "data": {
      "text/plain": [
       "array([1., 2.])"
      ]
     },
     "execution_count": 36,
     "metadata": {},
     "output_type": "execute_result"
    }
   ],
   "source": [
    "marital = demographics_df[['SEQN', 'DMDMARTZ']]\n",
    "\n",
    "# Combine 2.00 and 3.00 to make 2 be the sole 'Not Married' category\n",
    "marital['DMDMARTZ'] = marital['DMDMARTZ'].replace({2.00: 2, 3.00: 2})\n",
    "marital['DMDMARTZ'].unique()"
   ]
  },
  {
   "cell_type": "code",
   "execution_count": 37,
   "metadata": {},
   "outputs": [
    {
     "name": "stderr",
     "output_type": "stream",
     "text": [
      "/var/folders/ph/yfz6c6l55h3blch0js9k9b440000gn/T/ipykernel_6790/2031056716.py:1: SettingWithCopyWarning: \n",
      "A value is trying to be set on a copy of a slice from a DataFrame.\n",
      "Try using .loc[row_indexer,col_indexer] = value instead\n",
      "\n",
      "See the caveats in the documentation: https://pandas.pydata.org/pandas-docs/stable/user_guide/indexing.html#returning-a-view-versus-a-copy\n",
      "  marital['SEQN'] = marital['SEQN'].astype(str)\n"
     ]
    },
    {
     "data": {
      "text/plain": [
       "SEQN         object\n",
       "DMDMARTZ    float64\n",
       "dtype: object"
      ]
     },
     "execution_count": 37,
     "metadata": {},
     "output_type": "execute_result"
    }
   ],
   "source": [
    "marital['SEQN'] = marital['SEQN'].astype(str)\n",
    "marital.dtypes"
   ]
  },
  {
   "cell_type": "code",
   "execution_count": 38,
   "metadata": {},
   "outputs": [],
   "source": [
    "q3_merge = pd.merge(bp, age, how='left', on='SEQN')\n",
    "q3_merge = pd.merge(q3_merge, marital, how='left', on='SEQN')"
   ]
  },
  {
   "cell_type": "code",
   "execution_count": 39,
   "metadata": {},
   "outputs": [
    {
     "data": {
      "text/plain": [
       "SEQN        0\n",
       "BPXOSY3     0\n",
       "RIDAGEYR    0\n",
       "DMDMARTZ    0\n",
       "dtype: int64"
      ]
     },
     "execution_count": 39,
     "metadata": {},
     "output_type": "execute_result"
    }
   ],
   "source": [
    "q3_merge = q3_merge.dropna()\n",
    "q3_merge.isna().sum()"
   ]
  },
  {
   "cell_type": "code",
   "execution_count": 40,
   "metadata": {},
   "outputs": [
    {
     "data": {
      "text/html": [
       "<div>\n",
       "<style scoped>\n",
       "    .dataframe tbody tr th:only-of-type {\n",
       "        vertical-align: middle;\n",
       "    }\n",
       "\n",
       "    .dataframe tbody tr th {\n",
       "        vertical-align: top;\n",
       "    }\n",
       "\n",
       "    .dataframe thead th {\n",
       "        text-align: right;\n",
       "    }\n",
       "</style>\n",
       "<table border=\"1\" class=\"dataframe\">\n",
       "  <thead>\n",
       "    <tr style=\"text-align: right;\">\n",
       "      <th></th>\n",
       "      <th>SEQN</th>\n",
       "      <th>BPXOSY3</th>\n",
       "      <th>RIDAGEYR</th>\n",
       "      <th>DMDMARTZ</th>\n",
       "    </tr>\n",
       "  </thead>\n",
       "  <tbody>\n",
       "    <tr>\n",
       "      <th>0</th>\n",
       "      <td>130378.0</td>\n",
       "      <td>132.00</td>\n",
       "      <td>43.00</td>\n",
       "      <td>1.00</td>\n",
       "    </tr>\n",
       "    <tr>\n",
       "      <th>1</th>\n",
       "      <td>130379.0</td>\n",
       "      <td>113.00</td>\n",
       "      <td>66.00</td>\n",
       "      <td>1.00</td>\n",
       "    </tr>\n",
       "    <tr>\n",
       "      <th>2</th>\n",
       "      <td>130380.0</td>\n",
       "      <td>104.00</td>\n",
       "      <td>44.00</td>\n",
       "      <td>1.00</td>\n",
       "    </tr>\n",
       "    <tr>\n",
       "      <th>3</th>\n",
       "      <td>130386.0</td>\n",
       "      <td>115.00</td>\n",
       "      <td>34.00</td>\n",
       "      <td>1.00</td>\n",
       "    </tr>\n",
       "    <tr>\n",
       "      <th>4</th>\n",
       "      <td>130387.0</td>\n",
       "      <td>145.00</td>\n",
       "      <td>68.00</td>\n",
       "      <td>2.00</td>\n",
       "    </tr>\n",
       "    <tr>\n",
       "      <th>...</th>\n",
       "      <td>...</td>\n",
       "      <td>...</td>\n",
       "      <td>...</td>\n",
       "      <td>...</td>\n",
       "    </tr>\n",
       "    <tr>\n",
       "      <th>7795</th>\n",
       "      <td>142305.0</td>\n",
       "      <td>144.00</td>\n",
       "      <td>76.00</td>\n",
       "      <td>2.00</td>\n",
       "    </tr>\n",
       "    <tr>\n",
       "      <th>7797</th>\n",
       "      <td>142307.0</td>\n",
       "      <td>131.00</td>\n",
       "      <td>49.00</td>\n",
       "      <td>2.00</td>\n",
       "    </tr>\n",
       "    <tr>\n",
       "      <th>7798</th>\n",
       "      <td>142308.0</td>\n",
       "      <td>112.00</td>\n",
       "      <td>50.00</td>\n",
       "      <td>1.00</td>\n",
       "    </tr>\n",
       "    <tr>\n",
       "      <th>7799</th>\n",
       "      <td>142309.0</td>\n",
       "      <td>128.00</td>\n",
       "      <td>40.00</td>\n",
       "      <td>2.00</td>\n",
       "    </tr>\n",
       "    <tr>\n",
       "      <th>7800</th>\n",
       "      <td>142310.0</td>\n",
       "      <td>129.00</td>\n",
       "      <td>80.00</td>\n",
       "      <td>1.00</td>\n",
       "    </tr>\n",
       "  </tbody>\n",
       "</table>\n",
       "<p>5835 rows × 4 columns</p>\n",
       "</div>"
      ],
      "text/plain": [
       "          SEQN  BPXOSY3  RIDAGEYR  DMDMARTZ\n",
       "0     130378.0   132.00     43.00      1.00\n",
       "1     130379.0   113.00     66.00      1.00\n",
       "2     130380.0   104.00     44.00      1.00\n",
       "3     130386.0   115.00     34.00      1.00\n",
       "4     130387.0   145.00     68.00      2.00\n",
       "...        ...      ...       ...       ...\n",
       "7795  142305.0   144.00     76.00      2.00\n",
       "7797  142307.0   131.00     49.00      2.00\n",
       "7798  142308.0   112.00     50.00      1.00\n",
       "7799  142309.0   128.00     40.00      2.00\n",
       "7800  142310.0   129.00     80.00      1.00\n",
       "\n",
       "[5835 rows x 4 columns]"
      ]
     },
     "execution_count": 40,
     "metadata": {},
     "output_type": "execute_result"
    }
   ],
   "source": [
    "q3_merge"
   ]
  },
  {
   "cell_type": "code",
   "execution_count": 41,
   "metadata": {},
   "outputs": [
    {
     "name": "stdout",
     "output_type": "stream",
     "text": [
      "0      132.00\n",
      "1      113.00\n",
      "2      104.00\n",
      "3      115.00\n",
      "4      145.00\n",
      "        ...  \n",
      "7795   144.00\n",
      "7797   131.00\n",
      "7798   112.00\n",
      "7799   128.00\n",
      "7800   129.00\n",
      "Name: BPXOSY3, Length: 5835, dtype: float64\n"
     ]
    }
   ],
   "source": [
    "# Include all variables in the model\n",
    "y = q3_merge['BPXOSY3']\n",
    "x = q3_merge[['RIDAGEYR', 'DMDMARTZ']]\n",
    "\n",
    "print(y)"
   ]
  },
  {
   "cell_type": "code",
   "execution_count": 42,
   "metadata": {},
   "outputs": [
    {
     "name": "stdout",
     "output_type": "stream",
     "text": [
      "                            OLS Regression Results                            \n",
      "==============================================================================\n",
      "Dep. Variable:                BPXOSY3   R-squared:                       0.134\n",
      "Model:                            OLS   Adj. R-squared:                  0.134\n",
      "Method:                 Least Squares   F-statistic:                     452.9\n",
      "Date:                Thu, 07 Nov 2024   Prob (F-statistic):          1.50e-183\n",
      "Time:                        21:35:33   Log-Likelihood:                -24844.\n",
      "No. Observations:                5835   AIC:                         4.969e+04\n",
      "Df Residuals:                    5832   BIC:                         4.971e+04\n",
      "Df Model:                           2                                         \n",
      "Covariance Type:            nonrobust                                         \n",
      "==============================================================================\n",
      "                 coef    std err          t      P>|t|      [0.025      0.975]\n",
      "------------------------------------------------------------------------------\n",
      "const         99.4686      1.028     96.806      0.000      97.454     101.483\n",
      "RIDAGEYR       0.3952      0.013     30.090      0.000       0.369       0.421\n",
      "DMDMARTZ       1.3491      0.451      2.991      0.003       0.465       2.233\n",
      "==============================================================================\n",
      "Omnibus:                      684.505   Durbin-Watson:                   2.006\n",
      "Prob(Omnibus):                  0.000   Jarque-Bera (JB):             1450.852\n",
      "Skew:                           0.726   Prob(JB):                         0.00\n",
      "Kurtosis:                       4.965   Cond. No.                         273.\n",
      "==============================================================================\n",
      "\n",
      "Notes:\n",
      "[1] Standard Errors assume that the covariance matrix of the errors is correctly specified.\n"
     ]
    }
   ],
   "source": [
    "# Perform regression test\n",
    "import statsmodels.api as sm\n",
    "\n",
    "X = sm.add_constant(x)\n",
    "model = sm.OLS(y, X).fit()\n",
    "model\n",
    "\n",
    "print(model.summary())"
   ]
  },
  {
   "cell_type": "markdown",
   "metadata": {},
   "source": [
    "#### ANSWER:\n",
    "Both age and marital status are statistically significant since their p-values are less than 0.05 and thus, does affect systolic blood pressure (BP). But given that age's p-value is lower, age is likely to affect systolic BP more strongly than marital status."
   ]
  },
  {
   "cell_type": "markdown",
   "metadata": {},
   "source": [
    "### Question 4: \"Is there a correlation between self-reported weight and minutes of sedentary behavior?\"\n",
    "* Variables: WHD020 (self-reported weight, cleaned) and PAD680 (sedentary behavior time, cleaned)."
   ]
  },
  {
   "cell_type": "code",
   "execution_count": 43,
   "metadata": {},
   "outputs": [],
   "source": [
    "weight_df = pd.read_sas('https://wwwn.cdc.gov/Nchs/Nhanes/2021-2022/WHQ_L.XPT')"
   ]
  },
  {
   "cell_type": "code",
   "execution_count": 44,
   "metadata": {},
   "outputs": [],
   "source": [
    "weight_df = weight_df[~weight_df['WHD020'].isin([7777, 9999])].dropna(subset=['WHD020'])"
   ]
  },
  {
   "cell_type": "code",
   "execution_count": 45,
   "metadata": {},
   "outputs": [
    {
     "data": {
      "text/plain": [
       "'There are NO rows with the array values in the WHD020 column.'"
      ]
     },
     "execution_count": 45,
     "metadata": {},
     "output_type": "execute_result"
    }
   ],
   "source": [
    "check_exist(weight_df, 'WHD020', [7777, 9999])"
   ]
  },
  {
   "cell_type": "code",
   "execution_count": 46,
   "metadata": {},
   "outputs": [
    {
     "name": "stderr",
     "output_type": "stream",
     "text": [
      "/var/folders/ph/yfz6c6l55h3blch0js9k9b440000gn/T/ipykernel_6790/190052248.py:2: SettingWithCopyWarning: \n",
      "A value is trying to be set on a copy of a slice from a DataFrame.\n",
      "Try using .loc[row_indexer,col_indexer] = value instead\n",
      "\n",
      "See the caveats in the documentation: https://pandas.pydata.org/pandas-docs/stable/user_guide/indexing.html#returning-a-view-versus-a-copy\n",
      "  weight['SEQN'] = weight['SEQN'].astype(str)\n"
     ]
    },
    {
     "data": {
      "text/plain": [
       "SEQN       object\n",
       "WHD020    float64\n",
       "dtype: object"
      ]
     },
     "execution_count": 46,
     "metadata": {},
     "output_type": "execute_result"
    }
   ],
   "source": [
    "weight = weight_df[['SEQN', 'WHD020']]\n",
    "weight['SEQN'] = weight['SEQN'].astype(str)\n",
    "weight.dtypes"
   ]
  },
  {
   "cell_type": "code",
   "execution_count": 47,
   "metadata": {},
   "outputs": [
    {
     "data": {
      "text/html": [
       "<div>\n",
       "<style scoped>\n",
       "    .dataframe tbody tr th:only-of-type {\n",
       "        vertical-align: middle;\n",
       "    }\n",
       "\n",
       "    .dataframe tbody tr th {\n",
       "        vertical-align: top;\n",
       "    }\n",
       "\n",
       "    .dataframe thead th {\n",
       "        text-align: right;\n",
       "    }\n",
       "</style>\n",
       "<table border=\"1\" class=\"dataframe\">\n",
       "  <thead>\n",
       "    <tr style=\"text-align: right;\">\n",
       "      <th></th>\n",
       "      <th>SEQN</th>\n",
       "      <th>WHD020</th>\n",
       "    </tr>\n",
       "  </thead>\n",
       "  <tbody>\n",
       "    <tr>\n",
       "      <th>0</th>\n",
       "      <td>130378.0</td>\n",
       "      <td>190.00</td>\n",
       "    </tr>\n",
       "    <tr>\n",
       "      <th>1</th>\n",
       "      <td>130379.0</td>\n",
       "      <td>220.00</td>\n",
       "    </tr>\n",
       "    <tr>\n",
       "      <th>2</th>\n",
       "      <td>130380.0</td>\n",
       "      <td>150.00</td>\n",
       "    </tr>\n",
       "    <tr>\n",
       "      <th>3</th>\n",
       "      <td>130384.0</td>\n",
       "      <td>204.00</td>\n",
       "    </tr>\n",
       "    <tr>\n",
       "      <th>4</th>\n",
       "      <td>130385.0</td>\n",
       "      <td>240.00</td>\n",
       "    </tr>\n",
       "    <tr>\n",
       "      <th>...</th>\n",
       "      <td>...</td>\n",
       "      <td>...</td>\n",
       "    </tr>\n",
       "    <tr>\n",
       "      <th>8496</th>\n",
       "      <td>142305.0</td>\n",
       "      <td>137.00</td>\n",
       "    </tr>\n",
       "    <tr>\n",
       "      <th>8497</th>\n",
       "      <td>142307.0</td>\n",
       "      <td>206.00</td>\n",
       "    </tr>\n",
       "    <tr>\n",
       "      <th>8498</th>\n",
       "      <td>142308.0</td>\n",
       "      <td>174.00</td>\n",
       "    </tr>\n",
       "    <tr>\n",
       "      <th>8499</th>\n",
       "      <td>142309.0</td>\n",
       "      <td>200.00</td>\n",
       "    </tr>\n",
       "    <tr>\n",
       "      <th>8500</th>\n",
       "      <td>142310.0</td>\n",
       "      <td>157.00</td>\n",
       "    </tr>\n",
       "  </tbody>\n",
       "</table>\n",
       "<p>8358 rows × 2 columns</p>\n",
       "</div>"
      ],
      "text/plain": [
       "          SEQN  WHD020\n",
       "0     130378.0  190.00\n",
       "1     130379.0  220.00\n",
       "2     130380.0  150.00\n",
       "3     130384.0  204.00\n",
       "4     130385.0  240.00\n",
       "...        ...     ...\n",
       "8496  142305.0  137.00\n",
       "8497  142307.0  206.00\n",
       "8498  142308.0  174.00\n",
       "8499  142309.0  200.00\n",
       "8500  142310.0  157.00\n",
       "\n",
       "[8358 rows x 2 columns]"
      ]
     },
     "execution_count": 47,
     "metadata": {},
     "output_type": "execute_result"
    }
   ],
   "source": [
    "weight"
   ]
  },
  {
   "cell_type": "code",
   "execution_count": 48,
   "metadata": {},
   "outputs": [
    {
     "data": {
      "text/html": [
       "<div>\n",
       "<style scoped>\n",
       "    .dataframe tbody tr th:only-of-type {\n",
       "        vertical-align: middle;\n",
       "    }\n",
       "\n",
       "    .dataframe tbody tr th {\n",
       "        vertical-align: top;\n",
       "    }\n",
       "\n",
       "    .dataframe thead th {\n",
       "        text-align: right;\n",
       "    }\n",
       "</style>\n",
       "<table border=\"1\" class=\"dataframe\">\n",
       "  <thead>\n",
       "    <tr style=\"text-align: right;\">\n",
       "      <th></th>\n",
       "      <th>SEQN</th>\n",
       "      <th>WHD020</th>\n",
       "      <th>PAD680</th>\n",
       "    </tr>\n",
       "  </thead>\n",
       "  <tbody>\n",
       "    <tr>\n",
       "      <th>0</th>\n",
       "      <td>130378.0</td>\n",
       "      <td>190.00</td>\n",
       "      <td>360.00</td>\n",
       "    </tr>\n",
       "    <tr>\n",
       "      <th>1</th>\n",
       "      <td>130379.0</td>\n",
       "      <td>220.00</td>\n",
       "      <td>480.00</td>\n",
       "    </tr>\n",
       "    <tr>\n",
       "      <th>2</th>\n",
       "      <td>130380.0</td>\n",
       "      <td>150.00</td>\n",
       "      <td>240.00</td>\n",
       "    </tr>\n",
       "    <tr>\n",
       "      <th>3</th>\n",
       "      <td>130384.0</td>\n",
       "      <td>204.00</td>\n",
       "      <td>60.00</td>\n",
       "    </tr>\n",
       "    <tr>\n",
       "      <th>4</th>\n",
       "      <td>130385.0</td>\n",
       "      <td>240.00</td>\n",
       "      <td>180.00</td>\n",
       "    </tr>\n",
       "    <tr>\n",
       "      <th>...</th>\n",
       "      <td>...</td>\n",
       "      <td>...</td>\n",
       "      <td>...</td>\n",
       "    </tr>\n",
       "    <tr>\n",
       "      <th>8353</th>\n",
       "      <td>142305.0</td>\n",
       "      <td>137.00</td>\n",
       "      <td>480.00</td>\n",
       "    </tr>\n",
       "    <tr>\n",
       "      <th>8354</th>\n",
       "      <td>142307.0</td>\n",
       "      <td>206.00</td>\n",
       "      <td>480.00</td>\n",
       "    </tr>\n",
       "    <tr>\n",
       "      <th>8355</th>\n",
       "      <td>142308.0</td>\n",
       "      <td>174.00</td>\n",
       "      <td>600.00</td>\n",
       "    </tr>\n",
       "    <tr>\n",
       "      <th>8356</th>\n",
       "      <td>142309.0</td>\n",
       "      <td>200.00</td>\n",
       "      <td>240.00</td>\n",
       "    </tr>\n",
       "    <tr>\n",
       "      <th>8357</th>\n",
       "      <td>142310.0</td>\n",
       "      <td>157.00</td>\n",
       "      <td>360.00</td>\n",
       "    </tr>\n",
       "  </tbody>\n",
       "</table>\n",
       "<p>8358 rows × 3 columns</p>\n",
       "</div>"
      ],
      "text/plain": [
       "          SEQN  WHD020  PAD680\n",
       "0     130378.0  190.00  360.00\n",
       "1     130379.0  220.00  480.00\n",
       "2     130380.0  150.00  240.00\n",
       "3     130384.0  204.00   60.00\n",
       "4     130385.0  240.00  180.00\n",
       "...        ...     ...     ...\n",
       "8353  142305.0  137.00  480.00\n",
       "8354  142307.0  206.00  480.00\n",
       "8355  142308.0  174.00  600.00\n",
       "8356  142309.0  200.00  240.00\n",
       "8357  142310.0  157.00  360.00\n",
       "\n",
       "[8358 rows x 3 columns]"
      ]
     },
     "execution_count": 48,
     "metadata": {},
     "output_type": "execute_result"
    }
   ],
   "source": [
    "correlation = pd.merge(weight, sedentary_time, how='left', on='SEQN')\n",
    "correlation"
   ]
  },
  {
   "cell_type": "code",
   "execution_count": 49,
   "metadata": {},
   "outputs": [
    {
     "data": {
      "text/plain": [
       "SEQN      0\n",
       "WHD020    0\n",
       "PAD680    0\n",
       "dtype: int64"
      ]
     },
     "execution_count": 49,
     "metadata": {},
     "output_type": "execute_result"
    }
   ],
   "source": [
    "# Remove NaN\n",
    "correlation = correlation.dropna()\n",
    "correlation.isna().sum()"
   ]
  },
  {
   "cell_type": "code",
   "execution_count": 50,
   "metadata": {},
   "outputs": [
    {
     "name": "stdout",
     "output_type": "stream",
     "text": [
      "[175.0, 230.0, 180.0, 166.0, 160.0, 180.0, 190.0, 137.0, 204.0, 174.0]\n",
      "Length of sample cholesterol:  7954\n",
      "[180.0, 360.0, 300.0, 300.0, 180.0, 240.0, 240.0, 60.0, 480.0, 240.0]\n",
      "Length of sample glycohemo:  7954\n"
     ]
    }
   ],
   "source": [
    "from random import sample\n",
    "\n",
    "## Create two lists of equal values\n",
    "correlation_weight = list(correlation['WHD020'])\n",
    "print(sample(correlation_weight, 10))\n",
    "print('Length of sample cholesterol: ', len(correlation_weight))\n",
    "\n",
    "correlation_seden_time = list(correlation['PAD680'])\n",
    "print(sample(correlation_seden_time, 10))\n",
    "print('Length of sample glycohemo: ', len(correlation_seden_time))"
   ]
  },
  {
   "cell_type": "code",
   "execution_count": 51,
   "metadata": {},
   "outputs": [
    {
     "name": "stdout",
     "output_type": "stream",
     "text": [
      "Pearson Correlation Coefficient: 0.1559714584645021, p-value: 1.6988498386828133e-44\n",
      "Significant linear relationship.\n"
     ]
    }
   ],
   "source": [
    "# Run correlation test\n",
    "from scipy.stats import pearsonr\n",
    "\n",
    "# Calculate Pearson correlation\n",
    "corr, p_value = pearsonr(correlation_weight, correlation_seden_time)\n",
    "print(f'Pearson Correlation Coefficient: {corr}, p-value: {p_value}')\n",
    "\n",
    "# Interpretation\n",
    "if p_value > 0.05:\n",
    "    print('No significant linear relationship.')\n",
    "else:\n",
    "    print('Significant linear relationship.')"
   ]
  },
  {
   "cell_type": "code",
   "execution_count": 52,
   "metadata": {},
   "outputs": [
    {
     "data": {
      "text/plain": [
       "<Axes: xlabel='PAD680', ylabel='WHD020'>"
      ]
     },
     "execution_count": 52,
     "metadata": {},
     "output_type": "execute_result"
    },
    {
     "data": {
      "image/png": "[encoded data removed]",
      "text/plain": [
       "<Figure size 640x480 with 1 Axes>"
      ]
     },
     "metadata": {},
     "output_type": "display_data"
    }
   ],
   "source": [
    "# Create visual\n",
    "sns.scatterplot(data=correlation, x='PAD680', y='WHD020')"
   ]
  },
  {
   "cell_type": "markdown",
   "metadata": {},
   "source": [
    "### ANSWER:\n",
    "There is a statistically significant linear relationship between self-reported weight and minutes of sedentary behavior as the p-value is less than 0.05. However, the correlation between the two variables are weak since the Pearson Correlation Coefficient is only around 0.16."
   ]
  },
  {
   "cell_type": "markdown",
   "metadata": {},
   "source": [
    "### Question 5 (Creative Analysis): Is there a difference in the mean sedentary behavior time of those who have adequate vitamin D levels vs those who do not?"
   ]
  },
  {
   "cell_type": "code",
   "execution_count": 53,
   "metadata": {},
   "outputs": [],
   "source": [
    "vit_d = pd.read_sas('https://wwwn.cdc.gov/Nchs/Nhanes/2021-2022/VID_L.XPT')"
   ]
  },
  {
   "cell_type": "code",
   "execution_count": 54,
   "metadata": {},
   "outputs": [
    {
     "data": {
      "text/plain": [
       "SEQN        object\n",
       "LBDVD2LC    object\n",
       "dtype: object"
      ]
     },
     "execution_count": 54,
     "metadata": {},
     "output_type": "execute_result"
    }
   ],
   "source": [
    "vit_d = vit_d[['SEQN', 'LBDVD2LC']]\n",
    "vit_d['SEQN'] = vit_d['SEQN'].astype(str)\n",
    "vit_d['LBDVD2LC'] = vit_d['LBDVD2LC'].astype(str)\n",
    "vit_d.dtypes"
   ]
  },
  {
   "cell_type": "code",
   "execution_count": 55,
   "metadata": {},
   "outputs": [
    {
     "data": {
      "text/html": [
       "<div>\n",
       "<style scoped>\n",
       "    .dataframe tbody tr th:only-of-type {\n",
       "        vertical-align: middle;\n",
       "    }\n",
       "\n",
       "    .dataframe tbody tr th {\n",
       "        vertical-align: top;\n",
       "    }\n",
       "\n",
       "    .dataframe thead th {\n",
       "        text-align: right;\n",
       "    }\n",
       "</style>\n",
       "<table border=\"1\" class=\"dataframe\">\n",
       "  <thead>\n",
       "    <tr style=\"text-align: right;\">\n",
       "      <th></th>\n",
       "      <th>SEQN</th>\n",
       "      <th>LBDVD2LC</th>\n",
       "    </tr>\n",
       "  </thead>\n",
       "  <tbody>\n",
       "    <tr>\n",
       "      <th>0</th>\n",
       "      <td>130378.0</td>\n",
       "      <td>1.0</td>\n",
       "    </tr>\n",
       "    <tr>\n",
       "      <th>1</th>\n",
       "      <td>130379.0</td>\n",
       "      <td>1.0</td>\n",
       "    </tr>\n",
       "    <tr>\n",
       "      <th>2</th>\n",
       "      <td>130380.0</td>\n",
       "      <td>1.0</td>\n",
       "    </tr>\n",
       "    <tr>\n",
       "      <th>5</th>\n",
       "      <td>130386.0</td>\n",
       "      <td>1.0</td>\n",
       "    </tr>\n",
       "    <tr>\n",
       "      <th>6</th>\n",
       "      <td>130387.0</td>\n",
       "      <td>1.0</td>\n",
       "    </tr>\n",
       "    <tr>\n",
       "      <th>...</th>\n",
       "      <td>...</td>\n",
       "      <td>...</td>\n",
       "    </tr>\n",
       "    <tr>\n",
       "      <th>8719</th>\n",
       "      <td>142303.0</td>\n",
       "      <td>5.397605346934028e-79</td>\n",
       "    </tr>\n",
       "    <tr>\n",
       "      <th>8721</th>\n",
       "      <td>142305.0</td>\n",
       "      <td>1.0</td>\n",
       "    </tr>\n",
       "    <tr>\n",
       "      <th>8723</th>\n",
       "      <td>142307.0</td>\n",
       "      <td>1.0</td>\n",
       "    </tr>\n",
       "    <tr>\n",
       "      <th>8725</th>\n",
       "      <td>142309.0</td>\n",
       "      <td>1.0</td>\n",
       "    </tr>\n",
       "    <tr>\n",
       "      <th>8726</th>\n",
       "      <td>142310.0</td>\n",
       "      <td>1.0</td>\n",
       "    </tr>\n",
       "  </tbody>\n",
       "</table>\n",
       "<p>7307 rows × 2 columns</p>\n",
       "</div>"
      ],
      "text/plain": [
       "          SEQN               LBDVD2LC\n",
       "0     130378.0                    1.0\n",
       "1     130379.0                    1.0\n",
       "2     130380.0                    1.0\n",
       "5     130386.0                    1.0\n",
       "6     130387.0                    1.0\n",
       "...        ...                    ...\n",
       "8719  142303.0  5.397605346934028e-79\n",
       "8721  142305.0                    1.0\n",
       "8723  142307.0                    1.0\n",
       "8725  142309.0                    1.0\n",
       "8726  142310.0                    1.0\n",
       "\n",
       "[7307 rows x 2 columns]"
      ]
     },
     "execution_count": 55,
     "metadata": {},
     "output_type": "execute_result"
    }
   ],
   "source": [
    "# Get only 0 (aka 5.397605346934028e-79 here) and 1\n",
    "listin = ['5.397605346934028e-79', '1.0']\n",
    "vit_d = vit_d[vit_d['LBDVD2LC'].isin(listin)]\n",
    "vit_d"
   ]
  },
  {
   "cell_type": "code",
   "execution_count": 56,
   "metadata": {},
   "outputs": [
    {
     "data": {
      "text/plain": [
       "array(['1.0', '5.397605346934028e-79'], dtype=object)"
      ]
     },
     "execution_count": 56,
     "metadata": {},
     "output_type": "execute_result"
    }
   ],
   "source": [
    "vit_d['LBDVD2LC'].unique()"
   ]
  },
  {
   "cell_type": "code",
   "execution_count": 57,
   "metadata": {},
   "outputs": [
    {
     "data": {
      "text/plain": [
       "array(['Below lower detection limit', 'At or above the detection limit'],\n",
       "      dtype=object)"
      ]
     },
     "execution_count": 57,
     "metadata": {},
     "output_type": "execute_result"
    }
   ],
   "source": [
    "vit_d['LBDVD2LC'] = vit_d['LBDVD2LC'].replace('5.397605346934028e-79', 'At or above the detection limit')\n",
    "vit_d['LBDVD2LC'] = vit_d['LBDVD2LC'].replace('1.0', 'Below lower detection limit')\n",
    "vit_d['LBDVD2LC'].unique()"
   ]
  },
  {
   "cell_type": "code",
   "execution_count": 58,
   "metadata": {},
   "outputs": [
    {
     "data": {
      "text/html": [
       "<div>\n",
       "<style scoped>\n",
       "    .dataframe tbody tr th:only-of-type {\n",
       "        vertical-align: middle;\n",
       "    }\n",
       "\n",
       "    .dataframe tbody tr th {\n",
       "        vertical-align: top;\n",
       "    }\n",
       "\n",
       "    .dataframe thead th {\n",
       "        text-align: right;\n",
       "    }\n",
       "</style>\n",
       "<table border=\"1\" class=\"dataframe\">\n",
       "  <thead>\n",
       "    <tr style=\"text-align: right;\">\n",
       "      <th></th>\n",
       "      <th>SEQN</th>\n",
       "      <th>LBDVD2LC</th>\n",
       "    </tr>\n",
       "  </thead>\n",
       "  <tbody>\n",
       "    <tr>\n",
       "      <th>5468</th>\n",
       "      <td>137895.0</td>\n",
       "      <td>Below lower detection limit</td>\n",
       "    </tr>\n",
       "    <tr>\n",
       "      <th>5832</th>\n",
       "      <td>138376.0</td>\n",
       "      <td>Below lower detection limit</td>\n",
       "    </tr>\n",
       "    <tr>\n",
       "      <th>7888</th>\n",
       "      <td>141151.0</td>\n",
       "      <td>At or above the detection limit</td>\n",
       "    </tr>\n",
       "    <tr>\n",
       "      <th>7250</th>\n",
       "      <td>140303.0</td>\n",
       "      <td>Below lower detection limit</td>\n",
       "    </tr>\n",
       "    <tr>\n",
       "      <th>3927</th>\n",
       "      <td>135768.0</td>\n",
       "      <td>At or above the detection limit</td>\n",
       "    </tr>\n",
       "    <tr>\n",
       "      <th>5280</th>\n",
       "      <td>137641.0</td>\n",
       "      <td>Below lower detection limit</td>\n",
       "    </tr>\n",
       "    <tr>\n",
       "      <th>3928</th>\n",
       "      <td>135769.0</td>\n",
       "      <td>Below lower detection limit</td>\n",
       "    </tr>\n",
       "    <tr>\n",
       "      <th>5574</th>\n",
       "      <td>138036.0</td>\n",
       "      <td>At or above the detection limit</td>\n",
       "    </tr>\n",
       "    <tr>\n",
       "      <th>8304</th>\n",
       "      <td>141728.0</td>\n",
       "      <td>At or above the detection limit</td>\n",
       "    </tr>\n",
       "    <tr>\n",
       "      <th>3143</th>\n",
       "      <td>134679.0</td>\n",
       "      <td>Below lower detection limit</td>\n",
       "    </tr>\n",
       "    <tr>\n",
       "      <th>5968</th>\n",
       "      <td>138556.0</td>\n",
       "      <td>Below lower detection limit</td>\n",
       "    </tr>\n",
       "    <tr>\n",
       "      <th>1832</th>\n",
       "      <td>132862.0</td>\n",
       "      <td>Below lower detection limit</td>\n",
       "    </tr>\n",
       "    <tr>\n",
       "      <th>5448</th>\n",
       "      <td>137874.0</td>\n",
       "      <td>Below lower detection limit</td>\n",
       "    </tr>\n",
       "    <tr>\n",
       "      <th>8389</th>\n",
       "      <td>141851.0</td>\n",
       "      <td>Below lower detection limit</td>\n",
       "    </tr>\n",
       "    <tr>\n",
       "      <th>1795</th>\n",
       "      <td>132807.0</td>\n",
       "      <td>Below lower detection limit</td>\n",
       "    </tr>\n",
       "    <tr>\n",
       "      <th>8221</th>\n",
       "      <td>141611.0</td>\n",
       "      <td>Below lower detection limit</td>\n",
       "    </tr>\n",
       "    <tr>\n",
       "      <th>2183</th>\n",
       "      <td>133322.0</td>\n",
       "      <td>At or above the detection limit</td>\n",
       "    </tr>\n",
       "    <tr>\n",
       "      <th>4475</th>\n",
       "      <td>136542.0</td>\n",
       "      <td>Below lower detection limit</td>\n",
       "    </tr>\n",
       "    <tr>\n",
       "      <th>8596</th>\n",
       "      <td>142133.0</td>\n",
       "      <td>Below lower detection limit</td>\n",
       "    </tr>\n",
       "    <tr>\n",
       "      <th>3787</th>\n",
       "      <td>135581.0</td>\n",
       "      <td>Below lower detection limit</td>\n",
       "    </tr>\n",
       "  </tbody>\n",
       "</table>\n",
       "</div>"
      ],
      "text/plain": [
       "          SEQN                         LBDVD2LC\n",
       "5468  137895.0      Below lower detection limit\n",
       "5832  138376.0      Below lower detection limit\n",
       "7888  141151.0  At or above the detection limit\n",
       "7250  140303.0      Below lower detection limit\n",
       "3927  135768.0  At or above the detection limit\n",
       "5280  137641.0      Below lower detection limit\n",
       "3928  135769.0      Below lower detection limit\n",
       "5574  138036.0  At or above the detection limit\n",
       "8304  141728.0  At or above the detection limit\n",
       "3143  134679.0      Below lower detection limit\n",
       "5968  138556.0      Below lower detection limit\n",
       "1832  132862.0      Below lower detection limit\n",
       "5448  137874.0      Below lower detection limit\n",
       "8389  141851.0      Below lower detection limit\n",
       "1795  132807.0      Below lower detection limit\n",
       "8221  141611.0      Below lower detection limit\n",
       "2183  133322.0  At or above the detection limit\n",
       "4475  136542.0      Below lower detection limit\n",
       "8596  142133.0      Below lower detection limit\n",
       "3787  135581.0      Below lower detection limit"
      ]
     },
     "execution_count": 58,
     "metadata": {},
     "output_type": "execute_result"
    }
   ],
   "source": [
    "vit_d.sample(20)"
   ]
  },
  {
   "cell_type": "code",
   "execution_count": 59,
   "metadata": {},
   "outputs": [],
   "source": [
    "q5_merged = pd.merge(vit_d, sedentary_time, how=\"left\", on=[\"SEQN\"])"
   ]
  },
  {
   "cell_type": "code",
   "execution_count": 60,
   "metadata": {},
   "outputs": [
    {
     "data": {
      "text/plain": [
       "SEQN        0\n",
       "LBDVD2LC    0\n",
       "PAD680      0\n",
       "dtype: int64"
      ]
     },
     "execution_count": 60,
     "metadata": {},
     "output_type": "execute_result"
    }
   ],
   "source": [
    "# Remove missing values\n",
    "q5_merged = q5_merged.dropna()\n",
    "q5_merged.isna().sum()"
   ]
  },
  {
   "cell_type": "code",
   "execution_count": 61,
   "metadata": {},
   "outputs": [
    {
     "data": {
      "text/html": [
       "<div>\n",
       "<style scoped>\n",
       "    .dataframe tbody tr th:only-of-type {\n",
       "        vertical-align: middle;\n",
       "    }\n",
       "\n",
       "    .dataframe tbody tr th {\n",
       "        vertical-align: top;\n",
       "    }\n",
       "\n",
       "    .dataframe thead th {\n",
       "        text-align: right;\n",
       "    }\n",
       "</style>\n",
       "<table border=\"1\" class=\"dataframe\">\n",
       "  <thead>\n",
       "    <tr style=\"text-align: right;\">\n",
       "      <th></th>\n",
       "      <th>SEQN</th>\n",
       "      <th>LBDVD2LC</th>\n",
       "      <th>PAD680</th>\n",
       "    </tr>\n",
       "  </thead>\n",
       "  <tbody>\n",
       "    <tr>\n",
       "      <th>0</th>\n",
       "      <td>130378.0</td>\n",
       "      <td>Below lower detection limit</td>\n",
       "      <td>360.00</td>\n",
       "    </tr>\n",
       "    <tr>\n",
       "      <th>1</th>\n",
       "      <td>130379.0</td>\n",
       "      <td>Below lower detection limit</td>\n",
       "      <td>480.00</td>\n",
       "    </tr>\n",
       "    <tr>\n",
       "      <th>2</th>\n",
       "      <td>130380.0</td>\n",
       "      <td>Below lower detection limit</td>\n",
       "      <td>240.00</td>\n",
       "    </tr>\n",
       "    <tr>\n",
       "      <th>3</th>\n",
       "      <td>130386.0</td>\n",
       "      <td>Below lower detection limit</td>\n",
       "      <td>180.00</td>\n",
       "    </tr>\n",
       "    <tr>\n",
       "      <th>4</th>\n",
       "      <td>130387.0</td>\n",
       "      <td>Below lower detection limit</td>\n",
       "      <td>1200.00</td>\n",
       "    </tr>\n",
       "    <tr>\n",
       "      <th>...</th>\n",
       "      <td>...</td>\n",
       "      <td>...</td>\n",
       "      <td>...</td>\n",
       "    </tr>\n",
       "    <tr>\n",
       "      <th>7302</th>\n",
       "      <td>142303.0</td>\n",
       "      <td>At or above the detection limit</td>\n",
       "      <td>360.00</td>\n",
       "    </tr>\n",
       "    <tr>\n",
       "      <th>7303</th>\n",
       "      <td>142305.0</td>\n",
       "      <td>Below lower detection limit</td>\n",
       "      <td>480.00</td>\n",
       "    </tr>\n",
       "    <tr>\n",
       "      <th>7304</th>\n",
       "      <td>142307.0</td>\n",
       "      <td>Below lower detection limit</td>\n",
       "      <td>480.00</td>\n",
       "    </tr>\n",
       "    <tr>\n",
       "      <th>7305</th>\n",
       "      <td>142309.0</td>\n",
       "      <td>Below lower detection limit</td>\n",
       "      <td>240.00</td>\n",
       "    </tr>\n",
       "    <tr>\n",
       "      <th>7306</th>\n",
       "      <td>142310.0</td>\n",
       "      <td>Below lower detection limit</td>\n",
       "      <td>360.00</td>\n",
       "    </tr>\n",
       "  </tbody>\n",
       "</table>\n",
       "<p>5783 rows × 3 columns</p>\n",
       "</div>"
      ],
      "text/plain": [
       "          SEQN                         LBDVD2LC  PAD680\n",
       "0     130378.0      Below lower detection limit  360.00\n",
       "1     130379.0      Below lower detection limit  480.00\n",
       "2     130380.0      Below lower detection limit  240.00\n",
       "3     130386.0      Below lower detection limit  180.00\n",
       "4     130387.0      Below lower detection limit 1200.00\n",
       "...        ...                              ...     ...\n",
       "7302  142303.0  At or above the detection limit  360.00\n",
       "7303  142305.0      Below lower detection limit  480.00\n",
       "7304  142307.0      Below lower detection limit  480.00\n",
       "7305  142309.0      Below lower detection limit  240.00\n",
       "7306  142310.0      Below lower detection limit  360.00\n",
       "\n",
       "[5783 rows x 3 columns]"
      ]
     },
     "execution_count": 61,
     "metadata": {},
     "output_type": "execute_result"
    }
   ],
   "source": [
    "q5_merged"
   ]
  },
  {
   "cell_type": "code",
   "execution_count": 62,
   "metadata": {},
   "outputs": [
    {
     "data": {
      "text/plain": [
       "[360.0, 840.0, 300.0, 180.0, 720.0, 30.0, 180.0, 780.0, 360.0, 180.0]"
      ]
     },
     "execution_count": 62,
     "metadata": {},
     "output_type": "execute_result"
    }
   ],
   "source": [
    "# Get sedentary time from adequate vit D level individuals\n",
    "adequate_d = q5_merged[q5_merged['LBDVD2LC'] == 'At or above the detection limit']\n",
    "adequate_d = adequate_d[['PAD680']]\n",
    "\n",
    "# Convert to list\n",
    "adequate_d_list = list(adequate_d['PAD680'])\n",
    "adequate_d_list[:10]"
   ]
  },
  {
   "cell_type": "code",
   "execution_count": 63,
   "metadata": {},
   "outputs": [
    {
     "data": {
      "text/plain": [
       "[360.0, 480.0, 240.0, 180.0, 1200.0, 300.0, 240.0, 300.0, 720.0, 420.0]"
      ]
     },
     "execution_count": 63,
     "metadata": {},
     "output_type": "execute_result"
    }
   ],
   "source": [
    "lacking_d = q5_merged[q5_merged['LBDVD2LC'] == 'Below lower detection limit']\n",
    "lacking_d = lacking_d[['PAD680']]\n",
    "lacking_d_list = list(lacking_d['PAD680'])\n",
    "lacking_d_list[:10]"
   ]
  },
  {
   "cell_type": "code",
   "execution_count": 64,
   "metadata": {},
   "outputs": [
    {
     "name": "stdout",
     "output_type": "stream",
     "text": [
      "1286\n",
      "4497\n"
     ]
    }
   ],
   "source": [
    "print(len(adequate_d_list))\n",
    "print(len(lacking_d_list))"
   ]
  },
  {
   "cell_type": "code",
   "execution_count": 65,
   "metadata": {},
   "outputs": [
    {
     "name": "stdout",
     "output_type": "stream",
     "text": [
      "Length of adequate vit D list:  1286\n",
      "Length of lacking vit D list:  1286\n"
     ]
    }
   ],
   "source": [
    "# Make lacking_d_list be same length as adequate_d_list\n",
    "lacking_d_list = lacking_d_list[:len(adequate_d_list)]\n",
    "\n",
    "print('Length of adequate vit D list: ', len(adequate_d_list))\n",
    "print('Length of lacking vit D list: ', len(lacking_d_list))"
   ]
  },
  {
   "cell_type": "code",
   "execution_count": 66,
   "metadata": {},
   "outputs": [
    {
     "name": "stdout",
     "output_type": "stream",
     "text": [
      "Paired t-Test Statistic: 1.6788444964421902, p-value: 0.09342547827929983\n",
      "No significant difference between the two conditions.\n"
     ]
    }
   ],
   "source": [
    "# Perform paired t-test\n",
    "from scipy.stats import ttest_rel\n",
    "\n",
    "\n",
    "stat, p_value = ttest_rel(adequate_d_list, lacking_d_list)\n",
    "print(f\"Paired t-Test Statistic: {stat}, p-value: {p_value}\")\n",
    "\n",
    "# Interpretation\n",
    "if p_value > 0.05:\n",
    "    print(\"No significant difference between the two conditions.\")\n",
    "else:\n",
    "    print(\"Significant difference between the two conditions.\")"
   ]
  },
  {
   "cell_type": "code",
   "execution_count": 67,
   "metadata": {},
   "outputs": [
    {
     "name": "stdout",
     "output_type": "stream",
     "text": [
      "Mean sedentary time of those w/ adequate vit D: 373.4774494556765\n",
      "Mean sedentary time of those lacking vit D: 359.66951788491446\n"
     ]
    }
   ],
   "source": [
    "# Average sedentary time b/w vitamin D groups\n",
    "import numpy as np\n",
    "\n",
    "mean_seden_adequate_d = np.mean(adequate_d_list)\n",
    "mean_seden_lacking_d = np.mean(lacking_d_list)\n",
    "\n",
    "print(f'Mean sedentary time of those w/ adequate vit D: {mean_seden_adequate_d}')\n",
    "print(f'Mean sedentary time of those lacking vit D: {mean_seden_lacking_d}')"
   ]
  },
  {
   "cell_type": "markdown",
   "metadata": {},
   "source": [
    "### ANSWER:\n",
    "Since the p-value is greater than 0.05, that indicates there is no significant difference in sedentary time between those who have and do not have adequate vitamin D level. Those with adequate vitamin D level have a higher mean sedentary time, but the difference is very minimal. The mean sedentary time of those with adequate vitamin D is about 373.48 min while those lacking vitamin D is about 359.67 min; the difference is only less than 15 min."
   ]
  }
 ],
 "metadata": {
  "interpreter": {
   "hash": "aee8b7b246df8f9039afb4144a1f6fd8d2ca17a180786b69acc140d282b71a49"
  },
  "kernelspec": {
   "display_name": "Python 3.8.5 64-bit",
   "language": "python",
   "name": "python3"
  },
  "language_info": {
   "codemirror_mode": {
    "name": "ipython",
    "version": 3
   },
   "file_extension": ".py",
   "mimetype": "text/x-python",
   "name": "python",
   "nbconvert_exporter": "python",
   "pygments_lexer": "ipython3",
   "version": "3.8.5"
  },
  "orig_nbformat": 4
 },
 "nbformat": 4,
 "nbformat_minor": 2
}
